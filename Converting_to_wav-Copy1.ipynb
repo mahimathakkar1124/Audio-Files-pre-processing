{
 "cells": [
  {
   "cell_type": "code",
   "execution_count": 2,
   "metadata": {},
   "outputs": [
    {
     "name": "stdout",
     "output_type": "stream",
     "text": [
      "Collecting pydub\n",
      "  Downloading pydub-0.24.1-py2.py3-none-any.whl (30 kB)\n",
      "Installing collected packages: pydub\n",
      "Successfully installed pydub-0.24.1\n"
     ]
    }
   ],
   "source": [
    "!pip install pydub\n"
   ]
  },
  {
   "cell_type": "code",
   "execution_count": 3,
   "metadata": {},
   "outputs": [],
   "source": [
    "import os\n",
    "import glob\n",
    "import time\n",
    "import os\n",
    "import shutil\n",
    "\n",
    "from pydub import AudioSegment\n",
    "#video_dir = r'\\\\abyss1\\Customer_Data\\BabyCry\\FreeSound\\baby_cryingLicenseSampling+'  # Path where the videos are located\n",
    "extension_list = ('*.mp4', '*.flv','*.aiff','*.mp3','*.m4a','*.flac','*.tmp','*.ogg')\n",
    "os.chdir(r\"\\\\abyss1\\Customer_Data\\BabyCry\\FreeSound\\kitchen+dishes License Attribution\")\n",
    "for extension in extension_list:\n",
    "    for video in glob.glob(extension):\n",
    "        directory=os.getcwd() + \"/not_wav\"\n",
    "        if not os.path.exists(directory):\n",
    "            os.makedirs(directory)\n",
    "        src= os.path.join(os.getcwd(), video)\n",
    "        dst=os.path.join(directory,video)\n",
    "        mp3_filename = os.path.splitext(os.path.basename(video))[0] + '.wav'\n",
    "        #print mp3_filename\n",
    "        #wav_file=os.path.join( r\"\\\\abyss1\\Customer_Data\\BabyCry\\FreeSound\\baby_cryingLicenseAttribution_updated\", mp3_filename)\n",
    "        #print wav_file\n",
    "        AudioSegment.from_file(video).export(mp3_filename, format='wav')\n",
    "        shutil.move(src,dst)"
   ]
  },
  {
   "cell_type": "code",
   "execution_count": null,
   "metadata": {},
   "outputs": [],
   "source": []
  }
 ],
 "metadata": {
  "kernelspec": {
   "display_name": "Python 3",
   "language": "python",
   "name": "python3"
  },
  "language_info": {
   "codemirror_mode": {
    "name": "ipython",
    "version": 3
   },
   "file_extension": ".py",
   "mimetype": "text/x-python",
   "name": "python",
   "nbconvert_exporter": "python",
   "pygments_lexer": "ipython3",
   "version": "3.8.3"
  }
 },
 "nbformat": 4,
 "nbformat_minor": 2
}
