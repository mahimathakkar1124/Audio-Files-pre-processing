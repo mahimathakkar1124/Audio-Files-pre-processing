{
 "cells": [
  {
   "cell_type": "code",
   "execution_count": 19,
   "metadata": {},
   "outputs": [],
   "source": [
    "import glob\n",
    "import librosa    \n",
    "import os\n",
    "file_list=['\\\\abyss1\\Customer_Data\\BabyCry\\FreeSound']\n",
    "for i in glob.glob(r'\\\\abyss1\\Customer_Data\\BabyCry\\FreeSound\\baby_crying_LicenseCreativeCommons0\\*.wav'):# Reading the Wave files\n",
    "    #print(i)\n",
    "    wav_filename = os.path.splitext(os.path.basename(i))[0] + '.wav' #Toget the name of the file\n",
    "    filename=os.path.join( r\"\\\\abyss1\\Active_Projects\\Bose\\baby_crying_LicenseCreativeCommons0_Downsampled\", wav_filename) # File path to store the downsampled files.\n",
    "    y, s = librosa.load(i, sr=8000) # Downsampling the sample rate\n",
    "    librosa.output.write_wav(filename, y, s) # Storing the files to Active Projects."
   ]
  },
  {
   "cell_type": "code",
   "execution_count": 17,
   "metadata": {},
   "outputs": [
    {
     "name": "stdout",
     "output_type": "stream",
     "text": [
      "8000\n"
     ]
    }
   ],
   "source": [
    "from scipy.io.wavfile import read as read_wav\n",
    "import os\n",
    "#os.chdir('path') # change to the file directory\n",
    "sampling_rate, data=read_wav(r\"\\\\abyss1\\Active_Projects\\Bose\\baby_cryingLicenseSampling_Downsampled\\13802__pfly__babycry03.wav\") # enter your filename\n",
    "print sampling_rate"
   ]
  },
  {
   "cell_type": "code",
   "execution_count": 10,
   "metadata": {},
   "outputs": [
    {
     "data": {
      "text/plain": [
       "['\\\\\\\\abyss1\\\\Customer_Data\\\\BabyCry\\\\FreeSound\\\\baby_cryingLicenseSampling\\\\13802__pfly__babycry03.wav',\n",
       " '\\\\\\\\abyss1\\\\Customer_Data\\\\BabyCry\\\\FreeSound\\\\baby_cryingLicenseSampling\\\\29559__dude3966__restraunt1.wav',\n",
       " '\\\\\\\\abyss1\\\\Customer_Data\\\\BabyCry\\\\FreeSound\\\\baby_cryingLicenseSampling\\\\33004__experimental-illness__ll-i-killed-my-synthesizer-7.wav',\n",
       " '\\\\\\\\abyss1\\\\Customer_Data\\\\BabyCry\\\\FreeSound\\\\baby_cryingLicenseSampling\\\\45523__marder__baby-cry1.wav',\n",
       " '\\\\\\\\abyss1\\\\Customer_Data\\\\BabyCry\\\\FreeSound\\\\baby_cryingLicenseSampling\\\\47874__doobit__babycry.wav',\n",
       " '\\\\\\\\abyss1\\\\Customer_Data\\\\BabyCry\\\\FreeSound\\\\baby_cryingLicenseSampling\\\\76249__digitopia__09-07-15-1945-small-street-near-lapa-and-carolina-michaelis-people-inside-there-houses-havin-dinner.wav',\n",
       " '\\\\\\\\abyss1\\\\Customer_Data\\\\BabyCry\\\\FreeSound\\\\baby_cryingLicenseSampling\\\\21407__todd-bates__mamababycry.wav']"
      ]
     },
     "execution_count": 10,
     "metadata": {},
     "output_type": "execute_result"
    }
   ],
   "source": [
    "glob.glob(r'\\\\abyss1\\Customer_Data\\BabyCry\\FreeSound\\baby_cryingLicenseSampling\\*.wav')"
   ]
  },
  {
   "cell_type": "code",
   "execution_count": 7,
   "metadata": {},
   "outputs": [
    {
     "data": {
      "text/plain": [
       "['C:\\\\Users\\\\matlab\\\\Anaconda2',\n",
       " 'C:\\\\Users\\\\matlab\\\\anaconda3',\n",
       " 'C:\\\\Users\\\\matlab\\\\AppData',\n",
       " 'C:\\\\Users\\\\matlab\\\\Application Data',\n",
       " 'C:\\\\Users\\\\matlab\\\\Contacts',\n",
       " 'C:\\\\Users\\\\matlab\\\\Cookies',\n",
       " 'C:\\\\Users\\\\matlab\\\\Desktop',\n",
       " 'C:\\\\Users\\\\matlab\\\\Documents',\n",
       " 'C:\\\\Users\\\\matlab\\\\Downloads',\n",
       " 'C:\\\\Users\\\\matlab\\\\Favorites',\n",
       " 'C:\\\\Users\\\\matlab\\\\Links',\n",
       " 'C:\\\\Users\\\\matlab\\\\Local Settings',\n",
       " 'C:\\\\Users\\\\matlab\\\\mcuxpresso',\n",
       " 'C:\\\\Users\\\\matlab\\\\Music',\n",
       " 'C:\\\\Users\\\\matlab\\\\My Documents',\n",
       " 'C:\\\\Users\\\\matlab\\\\NetHood',\n",
       " 'C:\\\\Users\\\\matlab\\\\NTUSER.DAT',\n",
       " 'C:\\\\Users\\\\matlab\\\\ntuser.dat.LOG1',\n",
       " 'C:\\\\Users\\\\matlab\\\\ntuser.dat.LOG2',\n",
       " 'C:\\\\Users\\\\matlab\\\\NTUSER.DAT{016888bd-6c6f-11de-8d1d-001e0bcde3ec}.TM.blf',\n",
       " 'C:\\\\Users\\\\matlab\\\\NTUSER.DAT{016888bd-6c6f-11de-8d1d-001e0bcde3ec}.TMContainer00000000000000000001.regtrans-ms',\n",
       " 'C:\\\\Users\\\\matlab\\\\NTUSER.DAT{016888bd-6c6f-11de-8d1d-001e0bcde3ec}.TMContainer00000000000000000002.regtrans-ms',\n",
       " 'C:\\\\Users\\\\matlab\\\\ntuser.ini',\n",
       " 'C:\\\\Users\\\\matlab\\\\OneDrive',\n",
       " 'C:\\\\Users\\\\matlab\\\\Pictures',\n",
       " 'C:\\\\Users\\\\matlab\\\\PrintHood',\n",
       " 'C:\\\\Users\\\\matlab\\\\PycharmProjects',\n",
       " 'C:\\\\Users\\\\matlab\\\\Recent',\n",
       " 'C:\\\\Users\\\\matlab\\\\Saved Games',\n",
       " 'C:\\\\Users\\\\matlab\\\\Searches',\n",
       " 'C:\\\\Users\\\\matlab\\\\SendTo',\n",
       " 'C:\\\\Users\\\\matlab\\\\Start Menu',\n",
       " 'C:\\\\Users\\\\matlab\\\\Task-4-Large-scale-weakly-supervised-sound-event-detection-for-smart-cars-master',\n",
       " 'C:\\\\Users\\\\matlab\\\\Templates',\n",
       " 'C:\\\\Users\\\\matlab\\\\Videos',\n",
       " 'C:\\\\Users\\\\matlab\\\\VirtualBox VMs']"
      ]
     },
     "execution_count": 7,
     "metadata": {},
     "output_type": "execute_result"
    }
   ],
   "source": [
    "glob.glob('C:\\Users\\matlab\\*')"
   ]
  },
  {
   "cell_type": "code",
   "execution_count": null,
   "metadata": {},
   "outputs": [],
   "source": []
  }
 ],
 "metadata": {
  "kernelspec": {
   "display_name": "Python 3",
   "language": "python",
   "name": "python3"
  },
  "language_info": {
   "codemirror_mode": {
    "name": "ipython",
    "version": 3
   },
   "file_extension": ".py",
   "mimetype": "text/x-python",
   "name": "python",
   "nbconvert_exporter": "python",
   "pygments_lexer": "ipython3",
   "version": "3.8.3"
  }
 },
 "nbformat": 4,
 "nbformat_minor": 2
}
